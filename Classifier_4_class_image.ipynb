{
  "nbformat": 4,
  "nbformat_minor": 0,
  "metadata": {
    "colab": {
      "name": "Classifier_4_class_image.ipynb",
      "provenance": [],
      "private_outputs": true,
      "collapsed_sections": [],
      "authorship_tag": "ABX9TyPeaEKAPIVI4sxJbPxvdY7s",
      "include_colab_link": true
    },
    "kernelspec": {
      "name": "python3",
      "display_name": "Python 3"
    },
    "accelerator": "GPU"
  },
  "cells": [
    {
      "cell_type": "markdown",
      "metadata": {
        "id": "view-in-github",
        "colab_type": "text"
      },
      "source": [
        "<a href=\"https://colab.research.google.com/github/Samiul1403001/Python_projects/blob/master/Classifier_4_class_image.ipynb\" target=\"_parent\"><img src=\"https://colab.research.google.com/assets/colab-badge.svg\" alt=\"Open In Colab\"/></a>"
      ]
    },
    {
      "cell_type": "code",
      "metadata": {
        "id": "Xi50ohge7TRD"
      },
      "source": [
        "# Connecting with google drive\n",
        "\n",
        "from google.colab import drive\n",
        "\n",
        "drive.mount('/content/gdrive')"
      ],
      "execution_count": null,
      "outputs": []
    },
    {
      "cell_type": "code",
      "metadata": {
        "id": "btJixVjvxnhk"
      },
      "source": [
        "gpu_info = !nvidia-smi\n",
        "gpu_info = '\\n'.join(gpu_info)\n",
        "if gpu_info.find('failed') >= 0:\n",
        "  print('Select the Runtime > \"Change runtime type\" menu to enable a GPU accelerator, ')\n",
        "  print('and then re-execute this cell.')\n",
        "else:\n",
        "  print(gpu_info)"
      ],
      "execution_count": null,
      "outputs": []
    },
    {
      "cell_type": "code",
      "metadata": {
        "id": "uO73QYaxLTzW"
      },
      "source": [
        "# Preparaing DataLoader\n",
        "\n",
        "from torchvision import datasets, transforms\n",
        "from torch.utils.data import DataLoader\n",
        "import matplotlib.pyplot as plt\n",
        "\n",
        "transform = transforms.Compose([transforms.Resize([224, 224]),\n",
        "                                transforms.ToTensor()])\n",
        "dataset = datasets.ImageFolder('/content/gdrive/My Drive/Colab Notebooks/Datasets/Living_image/', transform=transform)\n",
        "dataloader = DataLoader(dataset, batch_size=296, shuffle=True)"
      ],
      "execution_count": null,
      "outputs": []
    },
    {
      "cell_type": "code",
      "metadata": {
        "id": "y1NDyPx2BjmO"
      },
      "source": [
        "# Model creating\n",
        "\n",
        "import torch.nn as nn, torch.optim as optim, torch.nn.functional as F, matplotlib.pyplot as plt\n",
        "from torch import flatten, round\n",
        "\n",
        "class CNN(nn.Module):\n",
        "    def __init__(self):\n",
        "        super(CNN, self).__init__()\n",
        "        self.conv1 = nn.Conv2d(3,32,3,1)\n",
        "        self.conv2 = nn.Conv2d(32,64,3,1)\n",
        "        self.fc1 = nn.Linear(186624, 256)       # the flatten data will be the multiply of final image size after conv and maxpool and the final filter output size\n",
        "        self.fc2 = nn.Linear(256, 32)\n",
        "        self.fc3 = nn.Linear(32, 4)\n",
        "    def forward(self,x):\n",
        "        x=self.conv1(x)\n",
        "        x=F.leaky_relu(x)\n",
        "        x=F.max_pool2d(x,2)\n",
        "        x=self.conv2(x)\n",
        "        x=F.leaky_relu(x)\n",
        "        x=F.max_pool2d(x,2)\n",
        "        x = flatten(x, 1)\n",
        "        x = self.fc1(x)\n",
        "        x = F.leaky_relu(x)\n",
        "        x = self.fc2(x)\n",
        "        x = F.leaky_relu(x)\n",
        "        x = self.fc3(x)\n",
        "        output = F.log_softmax(x, dim=1)\n",
        "        return output\n",
        "\n",
        "model = CNN()\n",
        "model = model.to('cuda:0')\n",
        "optimizer = optim.Adam(model.parameters(), lr=0.1, betas=(0.9, 0.999), eps=1e-08)"
      ],
      "execution_count": null,
      "outputs": []
    },
    {
      "cell_type": "code",
      "metadata": {
        "id": "OgoPAKZ_VLHk"
      },
      "source": [
        "# Training\n",
        "\n",
        "epoch = 30\n",
        "for n in range(epoch):\n",
        "  print(\"\\n\")\n",
        "  for (i,l) in dataloader:\n",
        "    optimizer.zero_grad()\n",
        "    i = i.to('cuda:0')\n",
        "    l = l.to('cuda:0')\n",
        "    bs, c, h, w = i.size()\n",
        "    output = model(i.view(-1, c, h, w))\n",
        "    loss = F.nll_loss(output, l)\n",
        "    loss.backward()\n",
        "    optimizer.step()\n",
        "    print(\"Loss in {} No. epoch: {}\".format(str(n+1), str(round(loss))), end='\\r')"
      ],
      "execution_count": null,
      "outputs": []
    },
    {
      "cell_type": "code",
      "metadata": {
        "id": "3TYizNo_rNMn"
      },
      "source": [
        "# Testing\n",
        "\n",
        "model.eval()\n",
        "test_loss = 0\n",
        "correct = 0\n",
        "with torch.no_grad():\n",
        "  for data, target in dataloader:\n",
        "    data = data.to('cuda:0')\n",
        "    target = target.to('cuda:0')\n",
        "    output = model(data)\n",
        "    test_loss += F.nll_loss(output, target, \n",
        "                         reduction='sum').item() \n",
        "    pred = output.argmax(dim=1, keepdim=True)  \n",
        "    correct += pred.eq(target.view_as(pred)).sum().item()\n",
        "test_loss /= len(dataloader.dataset)\n",
        "print('\\nTest set: Average loss: {:.4f}, Accuracy: {}/{} ({:.0f}%)\\n'.format(\n",
        "    test_loss, correct, len(dataloader.dataset),\n",
        "    100. * correct / len(dataloader.dataset)))"
      ],
      "execution_count": null,
      "outputs": []
    }
  ]
}